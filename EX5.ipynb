{
 "cells": [
  {
   "cell_type": "code",
   "execution_count": 2,
   "id": "11592d7e",
   "metadata": {},
   "outputs": [
    {
     "name": "stdout",
     "output_type": "stream",
     "text": [
      "Give Me Your Number8\n",
      "8\n",
      "56\n",
      "336\n",
      "1680\n",
      "6720\n",
      "20160\n",
      "40320\n",
      "40320\n"
     ]
    }
   ],
   "source": [
    "f=int(input(\"Give Me Your Number\"))\n",
    "fat=1\n",
    "while f>0:\n",
    "    fat = fat*f\n",
    "    f = f-1\n",
    "    print(fat)"
   ]
  },
  {
   "cell_type": "code",
   "execution_count": null,
   "id": "a00d12b6",
   "metadata": {},
   "outputs": [],
   "source": []
  }
 ],
 "metadata": {
  "kernelspec": {
   "display_name": "Python 3 (ipykernel)",
   "language": "python",
   "name": "python3"
  },
  "language_info": {
   "codemirror_mode": {
    "name": "ipython",
    "version": 3
   },
   "file_extension": ".py",
   "mimetype": "text/x-python",
   "name": "python",
   "nbconvert_exporter": "python",
   "pygments_lexer": "ipython3",
   "version": "3.9.12"
  }
 },
 "nbformat": 4,
 "nbformat_minor": 5
}
