{
 "cells": [
  {
   "cell_type": "code",
   "execution_count": 16,
   "id": "0c8b5632",
   "metadata": {},
   "outputs": [],
   "source": [
    "def test(str1, str2):\n",
    "    return(str1[0:3]+str2[0:3])"
   ]
  },
  {
   "cell_type": "code",
   "execution_count": 17,
   "id": "66c3fdd9",
   "metadata": {},
   "outputs": [
    {
     "data": {
      "text/plain": [
       "'CodWor'"
      ]
     },
     "execution_count": 17,
     "metadata": {},
     "output_type": "execute_result"
    }
   ],
   "source": [
    "test(\"Coding\",\"World\")"
   ]
  },
  {
   "cell_type": "code",
   "execution_count": 18,
   "id": "80cca4d5",
   "metadata": {},
   "outputs": [
    {
     "data": {
      "text/plain": [
       "'pyttoo'"
      ]
     },
     "execution_count": 18,
     "metadata": {},
     "output_type": "execute_result"
    }
   ],
   "source": [
    "test(\"python\",\"tool\")"
   ]
  },
  {
   "cell_type": "code",
   "execution_count": null,
   "id": "ae3fd3dd",
   "metadata": {},
   "outputs": [],
   "source": []
  }
 ],
 "metadata": {
  "kernelspec": {
   "display_name": "Python 3 (ipykernel)",
   "language": "python",
   "name": "python3"
  },
  "language_info": {
   "codemirror_mode": {
    "name": "ipython",
    "version": 3
   },
   "file_extension": ".py",
   "mimetype": "text/x-python",
   "name": "python",
   "nbconvert_exporter": "python",
   "pygments_lexer": "ipython3",
   "version": "3.9.12"
  }
 },
 "nbformat": 4,
 "nbformat_minor": 5
}
