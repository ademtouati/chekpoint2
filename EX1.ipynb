{
 "cells": [
  {
   "cell_type": "code",
   "execution_count": 3,
   "id": "0873ad98",
   "metadata": {},
   "outputs": [],
   "source": [
    "def test(first_name,second_name):\n",
    "    # write your code below this line \n",
    "\n",
    "    x =(second_name)\n",
    "    y =(first_name)\n",
    "\n",
    "\n",
    "    return(x+\" \"+y)"
   ]
  },
  {
   "cell_type": "code",
   "execution_count": 5,
   "id": "cf6dd2bf",
   "metadata": {},
   "outputs": [
    {
     "data": {
      "text/plain": [
       "'Touati Adem'"
      ]
     },
     "execution_count": 5,
     "metadata": {},
     "output_type": "execute_result"
    }
   ],
   "source": [
    "test(\"Adem\",\"Touati\")"
   ]
  },
  {
   "cell_type": "code",
   "execution_count": null,
   "id": "457ab031",
   "metadata": {},
   "outputs": [],
   "source": []
  }
 ],
 "metadata": {
  "kernelspec": {
   "display_name": "Python 3 (ipykernel)",
   "language": "python",
   "name": "python3"
  },
  "language_info": {
   "codemirror_mode": {
    "name": "ipython",
    "version": 3
   },
   "file_extension": ".py",
   "mimetype": "text/x-python",
   "name": "python",
   "nbconvert_exporter": "python",
   "pygments_lexer": "ipython3",
   "version": "3.9.12"
  }
 },
 "nbformat": 4,
 "nbformat_minor": 5
}
