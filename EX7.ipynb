{
 "cells": [
  {
   "cell_type": "code",
   "execution_count": 93,
   "id": "b752b532",
   "metadata": {},
   "outputs": [
    {
     "name": "stdout",
     "output_type": "stream",
     "text": [
      "Give me your price \n",
      "300\n",
      "your prodect have a 30% discount\n"
     ]
    }
   ],
   "source": [
    "x=int(input(\"Give me your price \\n\"))\n",
    "if x>=500:\n",
    "        print(\"your prodect have a 50% discount\")\n",
    "elif x>=200 and 500 :\n",
    "    print(\"your prodect have a 30% discount\")\n",
    "elif x < 200 :\n",
    "    print(\"your prodect have a 10% discont \")"
   ]
  },
  {
   "cell_type": "code",
   "execution_count": null,
   "id": "0f122929",
   "metadata": {},
   "outputs": [],
   "source": []
  },
  {
   "cell_type": "code",
   "execution_count": null,
   "id": "206c967b",
   "metadata": {},
   "outputs": [],
   "source": []
  },
  {
   "cell_type": "code",
   "execution_count": null,
   "id": "fc33121c",
   "metadata": {},
   "outputs": [],
   "source": []
  }
 ],
 "metadata": {
  "kernelspec": {
   "display_name": "Python 3 (ipykernel)",
   "language": "python",
   "name": "python3"
  },
  "language_info": {
   "codemirror_mode": {
    "name": "ipython",
    "version": 3
   },
   "file_extension": ".py",
   "mimetype": "text/x-python",
   "name": "python",
   "nbconvert_exporter": "python",
   "pygments_lexer": "ipython3",
   "version": "3.9.12"
  }
 },
 "nbformat": 4,
 "nbformat_minor": 5
}
