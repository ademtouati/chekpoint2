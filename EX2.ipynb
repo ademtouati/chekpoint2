{
 "cells": [
  {
   "cell_type": "code",
   "execution_count": 1,
   "id": "100be9cc",
   "metadata": {},
   "outputs": [],
   "source": [
    "def test(n,nn,nnn):\n",
    "    # write your code below this line \n",
    "\n",
    "    f=(n)\n",
    "    o=(nn)\n",
    "    l=(nnn)\n",
    "\n",
    "\n",
    "    return(f+o+l)"
   ]
  },
  {
   "cell_type": "code",
   "execution_count": 3,
   "id": "7f706b28",
   "metadata": {},
   "outputs": [
    {
     "data": {
      "text/plain": [
       "615"
      ]
     },
     "execution_count": 3,
     "metadata": {},
     "output_type": "execute_result"
    }
   ],
   "source": [
    "test(5,55,555)"
   ]
  },
  {
   "cell_type": "code",
   "execution_count": null,
   "id": "0355e06e",
   "metadata": {},
   "outputs": [],
   "source": []
  },
  {
   "cell_type": "code",
   "execution_count": null,
   "id": "4926c212",
   "metadata": {},
   "outputs": [],
   "source": []
  }
 ],
 "metadata": {
  "kernelspec": {
   "display_name": "Python 3 (ipykernel)",
   "language": "python",
   "name": "python3"
  },
  "language_info": {
   "codemirror_mode": {
    "name": "ipython",
    "version": 3
   },
   "file_extension": ".py",
   "mimetype": "text/x-python",
   "name": "python",
   "nbconvert_exporter": "python",
   "pygments_lexer": "ipython3",
   "version": "3.9.12"
  }
 },
 "nbformat": 4,
 "nbformat_minor": 5
}
